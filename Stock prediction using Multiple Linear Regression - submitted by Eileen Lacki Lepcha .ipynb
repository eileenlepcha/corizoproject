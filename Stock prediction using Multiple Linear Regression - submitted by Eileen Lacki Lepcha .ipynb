{
 "cells": [
  {
   "cell_type": "markdown",
   "metadata": {},
   "source": [
    "# Stock prediction using Multiple Linear Regression"
   ]
  },
  {
   "cell_type": "code",
   "execution_count": 1,
   "metadata": {},
   "outputs": [],
   "source": [
    "#Import the libraries\n",
    "import pandas as pd \n",
    "import numpy as np \n",
    "import matplotlib.pyplot as plt \n",
    "# importing the required module to build the model\n",
    "from sklearn import preprocessing\n",
    "from sklearn.model_selection import train_test_split\n",
    "from sklearn.linear_model import LinearRegression"
   ]
  },
  {
   "cell_type": "code",
   "execution_count": 2,
   "metadata": {},
   "outputs": [],
   "source": [
    "#importing the dataset\n",
    "stocks=pd.read_csv(\"Stock_Price_data_set.csv\")"
   ]
  },
  {
   "cell_type": "code",
   "execution_count": 3,
   "metadata": {},
   "outputs": [
    {
     "data": {
      "text/html": [
       "<div>\n",
       "<style scoped>\n",
       "    .dataframe tbody tr th:only-of-type {\n",
       "        vertical-align: middle;\n",
       "    }\n",
       "\n",
       "    .dataframe tbody tr th {\n",
       "        vertical-align: top;\n",
       "    }\n",
       "\n",
       "    .dataframe thead th {\n",
       "        text-align: right;\n",
       "    }\n",
       "</style>\n",
       "<table border=\"1\" class=\"dataframe\">\n",
       "  <thead>\n",
       "    <tr style=\"text-align: right;\">\n",
       "      <th></th>\n",
       "      <th>Date</th>\n",
       "      <th>Open</th>\n",
       "      <th>High</th>\n",
       "      <th>Low</th>\n",
       "      <th>Close</th>\n",
       "      <th>Adj Close</th>\n",
       "      <th>Volume</th>\n",
       "    </tr>\n",
       "  </thead>\n",
       "  <tbody>\n",
       "    <tr>\n",
       "      <th>0</th>\n",
       "      <td>2018-02-05</td>\n",
       "      <td>262.000000</td>\n",
       "      <td>267.899994</td>\n",
       "      <td>250.029999</td>\n",
       "      <td>254.259995</td>\n",
       "      <td>254.259995</td>\n",
       "      <td>11896100</td>\n",
       "    </tr>\n",
       "    <tr>\n",
       "      <th>1</th>\n",
       "      <td>2018-02-06</td>\n",
       "      <td>247.699997</td>\n",
       "      <td>266.700012</td>\n",
       "      <td>245.000000</td>\n",
       "      <td>265.720001</td>\n",
       "      <td>265.720001</td>\n",
       "      <td>12595800</td>\n",
       "    </tr>\n",
       "    <tr>\n",
       "      <th>2</th>\n",
       "      <td>2018-02-07</td>\n",
       "      <td>266.579987</td>\n",
       "      <td>272.450012</td>\n",
       "      <td>264.329987</td>\n",
       "      <td>264.559998</td>\n",
       "      <td>264.559998</td>\n",
       "      <td>8981500</td>\n",
       "    </tr>\n",
       "    <tr>\n",
       "      <th>3</th>\n",
       "      <td>2018-02-08</td>\n",
       "      <td>267.079987</td>\n",
       "      <td>267.619995</td>\n",
       "      <td>250.000000</td>\n",
       "      <td>250.100006</td>\n",
       "      <td>250.100006</td>\n",
       "      <td>9306700</td>\n",
       "    </tr>\n",
       "    <tr>\n",
       "      <th>4</th>\n",
       "      <td>2018-02-09</td>\n",
       "      <td>253.850006</td>\n",
       "      <td>255.800003</td>\n",
       "      <td>236.110001</td>\n",
       "      <td>249.470001</td>\n",
       "      <td>249.470001</td>\n",
       "      <td>16906900</td>\n",
       "    </tr>\n",
       "  </tbody>\n",
       "</table>\n",
       "</div>"
      ],
      "text/plain": [
       "         Date        Open        High         Low       Close   Adj Close  \\\n",
       "0  2018-02-05  262.000000  267.899994  250.029999  254.259995  254.259995   \n",
       "1  2018-02-06  247.699997  266.700012  245.000000  265.720001  265.720001   \n",
       "2  2018-02-07  266.579987  272.450012  264.329987  264.559998  264.559998   \n",
       "3  2018-02-08  267.079987  267.619995  250.000000  250.100006  250.100006   \n",
       "4  2018-02-09  253.850006  255.800003  236.110001  249.470001  249.470001   \n",
       "\n",
       "     Volume  \n",
       "0  11896100  \n",
       "1  12595800  \n",
       "2   8981500  \n",
       "3   9306700  \n",
       "4  16906900  "
      ]
     },
     "execution_count": 3,
     "metadata": {},
     "output_type": "execute_result"
    }
   ],
   "source": [
    "stocks.head()"
   ]
  },
  {
   "cell_type": "code",
   "execution_count": 4,
   "metadata": {},
   "outputs": [
    {
     "name": "stdout",
     "output_type": "stream",
     "text": [
      "<class 'pandas.core.frame.DataFrame'>\n",
      "RangeIndex: 1009 entries, 0 to 1008\n",
      "Data columns (total 7 columns):\n",
      " #   Column     Non-Null Count  Dtype  \n",
      "---  ------     --------------  -----  \n",
      " 0   Date       1009 non-null   object \n",
      " 1   Open       1009 non-null   float64\n",
      " 2   High       1009 non-null   float64\n",
      " 3   Low        1009 non-null   float64\n",
      " 4   Close      1009 non-null   float64\n",
      " 5   Adj Close  1009 non-null   float64\n",
      " 6   Volume     1009 non-null   int64  \n",
      "dtypes: float64(5), int64(1), object(1)\n",
      "memory usage: 55.3+ KB\n"
     ]
    }
   ],
   "source": [
    "stocks.info()"
   ]
  },
  {
   "cell_type": "code",
   "execution_count": 5,
   "metadata": {},
   "outputs": [
    {
     "data": {
      "text/plain": [
       "(1009, 7)"
      ]
     },
     "execution_count": 5,
     "metadata": {},
     "output_type": "execute_result"
    }
   ],
   "source": [
    "stocks.shape"
   ]
  },
  {
   "cell_type": "code",
   "execution_count": 6,
   "metadata": {},
   "outputs": [
    {
     "data": {
      "text/plain": [
       "Date         1009\n",
       "Open         1009\n",
       "High         1009\n",
       "Low          1009\n",
       "Close        1009\n",
       "Adj Close    1009\n",
       "Volume       1009\n",
       "dtype: int64"
      ]
     },
     "execution_count": 6,
     "metadata": {},
     "output_type": "execute_result"
    }
   ],
   "source": [
    "stocks.count()"
   ]
  },
  {
   "cell_type": "code",
   "execution_count": 7,
   "metadata": {},
   "outputs": [
    {
     "data": {
      "text/html": [
       "<div>\n",
       "<style scoped>\n",
       "    .dataframe tbody tr th:only-of-type {\n",
       "        vertical-align: middle;\n",
       "    }\n",
       "\n",
       "    .dataframe tbody tr th {\n",
       "        vertical-align: top;\n",
       "    }\n",
       "\n",
       "    .dataframe thead th {\n",
       "        text-align: right;\n",
       "    }\n",
       "</style>\n",
       "<table border=\"1\" class=\"dataframe\">\n",
       "  <thead>\n",
       "    <tr style=\"text-align: right;\">\n",
       "      <th></th>\n",
       "      <th>Open</th>\n",
       "      <th>High</th>\n",
       "      <th>Low</th>\n",
       "      <th>Close</th>\n",
       "      <th>Adj Close</th>\n",
       "      <th>Volume</th>\n",
       "    </tr>\n",
       "  </thead>\n",
       "  <tbody>\n",
       "    <tr>\n",
       "      <th>count</th>\n",
       "      <td>1009.000000</td>\n",
       "      <td>1009.000000</td>\n",
       "      <td>1009.000000</td>\n",
       "      <td>1009.000000</td>\n",
       "      <td>1009.000000</td>\n",
       "      <td>1.009000e+03</td>\n",
       "    </tr>\n",
       "    <tr>\n",
       "      <th>mean</th>\n",
       "      <td>419.059673</td>\n",
       "      <td>425.320703</td>\n",
       "      <td>412.374044</td>\n",
       "      <td>419.000733</td>\n",
       "      <td>419.000733</td>\n",
       "      <td>7.570685e+06</td>\n",
       "    </tr>\n",
       "    <tr>\n",
       "      <th>std</th>\n",
       "      <td>108.537532</td>\n",
       "      <td>109.262960</td>\n",
       "      <td>107.555867</td>\n",
       "      <td>108.289999</td>\n",
       "      <td>108.289999</td>\n",
       "      <td>5.465535e+06</td>\n",
       "    </tr>\n",
       "    <tr>\n",
       "      <th>min</th>\n",
       "      <td>233.919998</td>\n",
       "      <td>250.649994</td>\n",
       "      <td>231.229996</td>\n",
       "      <td>233.880005</td>\n",
       "      <td>233.880005</td>\n",
       "      <td>1.144000e+06</td>\n",
       "    </tr>\n",
       "    <tr>\n",
       "      <th>25%</th>\n",
       "      <td>331.489990</td>\n",
       "      <td>336.299988</td>\n",
       "      <td>326.000000</td>\n",
       "      <td>331.619995</td>\n",
       "      <td>331.619995</td>\n",
       "      <td>4.091900e+06</td>\n",
       "    </tr>\n",
       "    <tr>\n",
       "      <th>50%</th>\n",
       "      <td>377.769989</td>\n",
       "      <td>383.010010</td>\n",
       "      <td>370.880005</td>\n",
       "      <td>378.670013</td>\n",
       "      <td>378.670013</td>\n",
       "      <td>5.934500e+06</td>\n",
       "    </tr>\n",
       "    <tr>\n",
       "      <th>75%</th>\n",
       "      <td>509.130005</td>\n",
       "      <td>515.630005</td>\n",
       "      <td>502.529999</td>\n",
       "      <td>509.079987</td>\n",
       "      <td>509.079987</td>\n",
       "      <td>9.322400e+06</td>\n",
       "    </tr>\n",
       "    <tr>\n",
       "      <th>max</th>\n",
       "      <td>692.349976</td>\n",
       "      <td>700.989990</td>\n",
       "      <td>686.090027</td>\n",
       "      <td>691.690002</td>\n",
       "      <td>691.690002</td>\n",
       "      <td>5.890430e+07</td>\n",
       "    </tr>\n",
       "  </tbody>\n",
       "</table>\n",
       "</div>"
      ],
      "text/plain": [
       "              Open         High          Low        Close    Adj Close  \\\n",
       "count  1009.000000  1009.000000  1009.000000  1009.000000  1009.000000   \n",
       "mean    419.059673   425.320703   412.374044   419.000733   419.000733   \n",
       "std     108.537532   109.262960   107.555867   108.289999   108.289999   \n",
       "min     233.919998   250.649994   231.229996   233.880005   233.880005   \n",
       "25%     331.489990   336.299988   326.000000   331.619995   331.619995   \n",
       "50%     377.769989   383.010010   370.880005   378.670013   378.670013   \n",
       "75%     509.130005   515.630005   502.529999   509.079987   509.079987   \n",
       "max     692.349976   700.989990   686.090027   691.690002   691.690002   \n",
       "\n",
       "             Volume  \n",
       "count  1.009000e+03  \n",
       "mean   7.570685e+06  \n",
       "std    5.465535e+06  \n",
       "min    1.144000e+06  \n",
       "25%    4.091900e+06  \n",
       "50%    5.934500e+06  \n",
       "75%    9.322400e+06  \n",
       "max    5.890430e+07  "
      ]
     },
     "execution_count": 7,
     "metadata": {},
     "output_type": "execute_result"
    }
   ],
   "source": [
    "stocks.describe()"
   ]
  },
  {
   "cell_type": "code",
   "execution_count": 8,
   "metadata": {},
   "outputs": [
    {
     "data": {
      "text/plain": [
       "Date         0\n",
       "Open         0\n",
       "High         0\n",
       "Low          0\n",
       "Close        0\n",
       "Adj Close    0\n",
       "Volume       0\n",
       "dtype: int64"
      ]
     },
     "execution_count": 8,
     "metadata": {},
     "output_type": "execute_result"
    }
   ],
   "source": [
    "#checking for null values\n",
    "stocks.isna().sum()"
   ]
  },
  {
   "cell_type": "markdown",
   "metadata": {},
   "source": [
    "since there are no null values we can proceed to the next step:"
   ]
  },
  {
   "cell_type": "markdown",
   "metadata": {},
   "source": [
    "# To make predictions calculating the Percentage Change %"
   ]
  },
  {
   "cell_type": "markdown",
   "metadata": {},
   "source": [
    "\n",
    "In stock trading, the percentage change is a metric that uses simple arithmetic to find what the relative change in a stock price is over a specific period of time.\n",
    "\n",
    "\n",
    "The formula for percentage change is:\n"
   ]
  },
  {
   "cell_type": "markdown",
   "metadata": {},
   "source": [
    "# (New Price - Old Price) / Old Price x 100. "
   ]
  },
  {
   "cell_type": "markdown",
   "metadata": {},
   "source": [
    "The percentage change will be positive if the stock price has gone up and negative if the stock price has gone down. \n",
    "\n",
    "in this model we will use it to observe the changes in the price for the day, for both the:\n",
    "\n",
    "1) High and Low prices\n",
    "2) Opening and Closing prices "
   ]
  },
  {
   "cell_type": "markdown",
   "metadata": {},
   "source": [
    "# Conducting EDA "
   ]
  },
  {
   "cell_type": "code",
   "execution_count": 9,
   "metadata": {},
   "outputs": [],
   "source": [
    "#Make two new columns with the percentage change that will be used for making predictions.\n",
    "stocks[\"HL_Perc\"] = (stocks[\"High\"]-stocks[\"Low\"]) / stocks[\"Low\"] * 100\n",
    "stocks[\"CO_Perc\"] = (stocks[\"Close\"] - stocks[\"Open\"]) / stocks[\"Open\"] * 100"
   ]
  },
  {
   "cell_type": "code",
   "execution_count": 10,
   "metadata": {},
   "outputs": [],
   "source": [
    "#converting dates \n",
    "dates = np.array(stocks[\"Date\"])\n",
    "dates_check = dates[-30:]\n",
    "dates = dates[:-30]"
   ]
  },
  {
   "cell_type": "code",
   "execution_count": 11,
   "metadata": {},
   "outputs": [],
   "source": [
    "stocks = stocks[[\"HL_Perc\", \"CO_Perc\", \"Adj Close\", \"Volume\"]]"
   ]
  },
  {
   "cell_type": "code",
   "execution_count": 12,
   "metadata": {},
   "outputs": [],
   "source": [
    "#Defining the column labels\n",
    "stocks[\"PriceNextMonth\"] = stocks[\"Adj Close\"].shift(-30)"
   ]
  },
  {
   "cell_type": "code",
   "execution_count": 13,
   "metadata": {},
   "outputs": [
    {
     "data": {
      "text/html": [
       "<div>\n",
       "<style scoped>\n",
       "    .dataframe tbody tr th:only-of-type {\n",
       "        vertical-align: middle;\n",
       "    }\n",
       "\n",
       "    .dataframe tbody tr th {\n",
       "        vertical-align: top;\n",
       "    }\n",
       "\n",
       "    .dataframe thead th {\n",
       "        text-align: right;\n",
       "    }\n",
       "</style>\n",
       "<table border=\"1\" class=\"dataframe\">\n",
       "  <thead>\n",
       "    <tr style=\"text-align: right;\">\n",
       "      <th></th>\n",
       "      <th>HL_Perc</th>\n",
       "      <th>CO_Perc</th>\n",
       "      <th>Adj Close</th>\n",
       "      <th>Volume</th>\n",
       "      <th>PriceNextMonth</th>\n",
       "    </tr>\n",
       "  </thead>\n",
       "  <tbody>\n",
       "    <tr>\n",
       "      <th>0</th>\n",
       "      <td>7.147140</td>\n",
       "      <td>-2.954200</td>\n",
       "      <td>254.259995</td>\n",
       "      <td>11896100</td>\n",
       "      <td>317.500000</td>\n",
       "    </tr>\n",
       "    <tr>\n",
       "      <th>1</th>\n",
       "      <td>8.857148</td>\n",
       "      <td>7.274931</td>\n",
       "      <td>265.720001</td>\n",
       "      <td>12595800</td>\n",
       "      <td>316.480011</td>\n",
       "    </tr>\n",
       "    <tr>\n",
       "      <th>2</th>\n",
       "      <td>3.071927</td>\n",
       "      <td>-0.757742</td>\n",
       "      <td>264.559998</td>\n",
       "      <td>8981500</td>\n",
       "      <td>306.700012</td>\n",
       "    </tr>\n",
       "    <tr>\n",
       "      <th>3</th>\n",
       "      <td>7.047998</td>\n",
       "      <td>-6.357639</td>\n",
       "      <td>250.100006</td>\n",
       "      <td>9306700</td>\n",
       "      <td>300.940002</td>\n",
       "    </tr>\n",
       "    <tr>\n",
       "      <th>4</th>\n",
       "      <td>8.339334</td>\n",
       "      <td>-1.725430</td>\n",
       "      <td>249.470001</td>\n",
       "      <td>16906900</td>\n",
       "      <td>320.350006</td>\n",
       "    </tr>\n",
       "  </tbody>\n",
       "</table>\n",
       "</div>"
      ],
      "text/plain": [
       "    HL_Perc   CO_Perc   Adj Close    Volume  PriceNextMonth\n",
       "0  7.147140 -2.954200  254.259995  11896100      317.500000\n",
       "1  8.857148  7.274931  265.720001  12595800      316.480011\n",
       "2  3.071927 -0.757742  264.559998   8981500      306.700012\n",
       "3  7.047998 -6.357639  250.100006   9306700      300.940002\n",
       "4  8.339334 -1.725430  249.470001  16906900      320.350006"
      ]
     },
     "execution_count": 13,
     "metadata": {},
     "output_type": "execute_result"
    }
   ],
   "source": [
    "stocks.head()"
   ]
  },
  {
   "cell_type": "code",
   "execution_count": 14,
   "metadata": {},
   "outputs": [],
   "source": [
    "#Make fetaure and label arrays\n",
    "X = np.array(stocks.drop([\"PriceNextMonth\"], 1))\n",
    "X = preprocessing.scale(X)\n",
    "X_Check = X[-30:]\n",
    "X = X[:-30]\n",
    "stocks.dropna(inplace = True)\n",
    "y = np.array(stocks[\"PriceNextMonth\"])"
   ]
  },
  {
   "cell_type": "code",
   "execution_count": 15,
   "metadata": {},
   "outputs": [],
   "source": [
    "#Divide the data set into training data and testing data\n",
    "X_train, X_test, y_train, y_test = train_test_split(X,y,test_size = 0.2)"
   ]
  },
  {
   "cell_type": "code",
   "execution_count": 16,
   "metadata": {},
   "outputs": [
    {
     "name": "stdout",
     "output_type": "stream",
     "text": [
      "0.7464817188091168\n"
     ]
    }
   ],
   "source": [
    "# Instantiating the algorithm for building the model\n",
    "model = LinearRegression()\n",
    "\n",
    "# building the model using fit() method\n",
    "model.fit(X_train, y_train)\n",
    "\n",
    "#Calculate the confidence value by applying the model to testing data\n",
    "conf = model.score(X_test, y_test)\n",
    "print(conf)"
   ]
  },
  {
   "cell_type": "code",
   "execution_count": 17,
   "metadata": {},
   "outputs": [
    {
     "data": {
      "text/plain": [
       "LinearRegression()"
      ]
     },
     "execution_count": 17,
     "metadata": {},
     "output_type": "execute_result"
    }
   ],
   "source": [
    "#Fit the model again using the whole data set\n",
    "model.fit(X,y)"
   ]
  },
  {
   "cell_type": "code",
   "execution_count": 18,
   "metadata": {},
   "outputs": [],
   "source": [
    "predictions = model.predict(X_Check)"
   ]
  },
  {
   "cell_type": "code",
   "execution_count": 19,
   "metadata": {},
   "outputs": [],
   "source": [
    "#Make the final DataFrame containing Dates, ClosePrices, and Forecast values\n",
    "actual = pd.DataFrame(dates, columns = [\"Date\"])\n",
    "actual[\"ClosePrice\"] = stocks[\"Adj Close\"]\n",
    "actual[\"Forecast\"] = np.nan\n",
    "actual.set_index(\"Date\", inplace = True)\n",
    "forecast = pd.DataFrame(dates_check, columns=[\"Date\"])\n",
    "forecast[\"Forecast\"] = predictions\n",
    "forecast[\"ClosePrice\"] = np.nan\n",
    "forecast.set_index(\"Date\", inplace = True)\n",
    "var = [actual, forecast]\n",
    "result = pd.concat(var)  #This is the resulting final DataFrame for our model"
   ]
  },
  {
   "cell_type": "code",
   "execution_count": 20,
   "metadata": {},
   "outputs": [
    {
     "name": "stdout",
     "output_type": "stream",
     "text": [
      "0.8022527915682064\n"
     ]
    }
   ],
   "source": [
    "# score() method for regression model, returns the 'coefficient of determination' (r^2) value for the model\n",
    "print(model.score(X,y))"
   ]
  },
  {
   "cell_type": "code",
   "execution_count": 21,
   "metadata": {},
   "outputs": [
    {
     "name": "stdout",
     "output_type": "stream",
     "text": [
      "0.8022527915682064\n"
     ]
    }
   ],
   "source": [
    "# score() method for regression model, returns the 'coefficient of determination' (r^2) value for the model\n",
    "print(model.score(X,y))"
   ]
  },
  {
   "cell_type": "markdown",
   "metadata": {},
   "source": [
    "# Visualising our results"
   ]
  },
  {
   "cell_type": "code",
   "execution_count": 22,
   "metadata": {},
   "outputs": [
    {
     "data": {
      "text/plain": [
       "Text(0, 0.5, 'Price')"
      ]
     },
     "execution_count": 22,
     "metadata": {},
     "output_type": "execute_result"
    },
    {
     "data": {
      "image/png": "[encoded data removed]",
      "text/plain": [
       "<Figure size 1080x720 with 1 Axes>"
      ]
     },
     "metadata": {
      "needs_background": "light"
     },
     "output_type": "display_data"
    }
   ],
   "source": [
    "#Plot the final results\n",
    "result.plot(figsize=(15,10), linewidth=1.0)\n",
    "plt.legend(loc=2, prop={'size':15})\n",
    "plt.xlabel('Date')\n",
    "plt.ylabel('Price')"
   ]
  },
  {
   "cell_type": "code",
   "execution_count": null,
   "metadata": {},
   "outputs": [],
   "source": []
  }
 ],
 "metadata": {
  "kernelspec": {
   "display_name": "Python 3",
   "language": "python",
   "name": "python3"
  },
  "language_info": {
   "codemirror_mode": {
    "name": "ipython",
    "version": 3
   },
   "file_extension": ".py",
   "mimetype": "text/x-python",
   "name": "python",
   "nbconvert_exporter": "python",
   "pygments_lexer": "ipython3",
   "version": "3.8.5"
  }
 },
 "nbformat": 4,
 "nbformat_minor": 4
}
